{
 "cells": [
  {
   "cell_type": "code",
   "execution_count": 1,
   "id": "782e4706",
   "metadata": {},
   "outputs": [
    {
     "name": "stdout",
     "output_type": "stream",
     "text": [
      "Collecting pyqrcode\n",
      "  Using cached PyQRCode-1.2.1.zip (41 kB)\n",
      "Building wheels for collected packages: pyqrcode\n",
      "  Building wheel for pyqrcode (setup.py): started\n",
      "  Building wheel for pyqrcode (setup.py): finished with status 'done'\n",
      "  Created wheel for pyqrcode: filename=PyQRCode-1.2.1-py3-none-any.whl size=36245 sha256=3826e6f4efc5b01de3322abf1f1fc177580cdd010a64d3b32be368113c517ae9\n",
      "  Stored in directory: c:\\users\\cheekati karthik\\appdata\\local\\pip\\cache\\wheels\\da\\75\\c0\\38c7f82750de2725429b6b8571dca254249d73f6c882c5d9b1\n",
      "Successfully built pyqrcode\n",
      "Installing collected packages: pyqrcode\n",
      "Successfully installed pyqrcode-1.2.1\n"
     ]
    }
   ],
   "source": [
    "! pip install pyqrcode"
   ]
  },
  {
   "cell_type": "code",
   "execution_count": 2,
   "id": "2d7c2c66",
   "metadata": {},
   "outputs": [
    {
     "name": "stdout",
     "output_type": "stream",
     "text": [
      "Collecting pypng\n",
      "  Downloading pypng-0.0.21-py3-none-any.whl (48 kB)\n",
      "Installing collected packages: pypng\n",
      "Successfully installed pypng-0.0.21\n"
     ]
    }
   ],
   "source": [
    "! pip install pypng"
   ]
  },
  {
   "cell_type": "code",
   "execution_count": 1,
   "id": "e7d80049",
   "metadata": {},
   "outputs": [],
   "source": [
    "import cv2\n",
    "import webbrowser\n",
    "cap=cv2.VideoCapture(0)\n",
    "detector=cv2.QRCodeDetector()\n",
    "while True:\n",
    "    _,img=cap.read()\n",
    "    data,one, _=detector.detectAndDecode(img)\n",
    "    if data:\n",
    "        a=data\n",
    "        break\n",
    "    cv2.imshow('qrcodescanner app',img)\n",
    "    if cv2.waitKey(1)==ord('q'):\n",
    "        break\n",
    "b=webbrowser.open(str(a))\n",
    "cv2.destroyAllWindows()"
   ]
  },
  {
   "cell_type": "code",
   "execution_count": null,
   "id": "cfb4a11f",
   "metadata": {},
   "outputs": [],
   "source": []
  }
 ],
 "metadata": {
  "kernelspec": {
   "display_name": "Python 3 (ipykernel)",
   "language": "python",
   "name": "python3"
  },
  "language_info": {
   "codemirror_mode": {
    "name": "ipython",
    "version": 3
   },
   "file_extension": ".py",
   "mimetype": "text/x-python",
   "name": "python",
   "nbconvert_exporter": "python",
   "pygments_lexer": "ipython3",
   "version": "3.9.7"
  }
 },
 "nbformat": 4,
 "nbformat_minor": 5
}
